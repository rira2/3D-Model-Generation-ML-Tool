{
  "nbformat": 4,
  "nbformat_minor": 0,
  "metadata": {
    "colab": {
      "provenance": [],
      "gpuType": "T4"
    },
    "kernelspec": {
      "name": "python3",
      "display_name": "Python 3"
    },
    "language_info": {
      "name": "python"
    },
    "accelerator": "GPU",
    "widgets": {
      "application/vnd.jupyter.widget-state+json": {
        "1c756bb1840d409b8cebc14745c8a261": {
          "model_module": "@jupyter-widgets/controls",
          "model_name": "HBoxModel",
          "model_module_version": "1.5.0",
          "state": {
            "_dom_classes": [],
            "_model_module": "@jupyter-widgets/controls",
            "_model_module_version": "1.5.0",
            "_model_name": "HBoxModel",
            "_view_count": null,
            "_view_module": "@jupyter-widgets/controls",
            "_view_module_version": "1.5.0",
            "_view_name": "HBoxView",
            "box_style": "",
            "children": [
              "IPY_MODEL_ca85bdaa25574c8b8d8f69606c3b68f6",
              "IPY_MODEL_037df5753111427c9c1f902c7449266f",
              "IPY_MODEL_38da79af43d84b3486f2f50d6c444b31"
            ],
            "layout": "IPY_MODEL_140a6e738e7045509d1a51be9400f1e7"
          }
        },
        "ca85bdaa25574c8b8d8f69606c3b68f6": {
          "model_module": "@jupyter-widgets/controls",
          "model_name": "HTMLModel",
          "model_module_version": "1.5.0",
          "state": {
            "_dom_classes": [],
            "_model_module": "@jupyter-widgets/controls",
            "_model_module_version": "1.5.0",
            "_model_name": "HTMLModel",
            "_view_count": null,
            "_view_module": "@jupyter-widgets/controls",
            "_view_module_version": "1.5.0",
            "_view_name": "HTMLView",
            "description": "",
            "description_tooltip": null,
            "layout": "IPY_MODEL_61be4c8088434895b36c9b356e34f706",
            "placeholder": "​",
            "style": "IPY_MODEL_06da25dccf984c0691d390463423b3ac",
            "value": "100%"
          }
        },
        "037df5753111427c9c1f902c7449266f": {
          "model_module": "@jupyter-widgets/controls",
          "model_name": "FloatProgressModel",
          "model_module_version": "1.5.0",
          "state": {
            "_dom_classes": [],
            "_model_module": "@jupyter-widgets/controls",
            "_model_module_version": "1.5.0",
            "_model_name": "FloatProgressModel",
            "_view_count": null,
            "_view_module": "@jupyter-widgets/controls",
            "_view_module_version": "1.5.0",
            "_view_name": "ProgressView",
            "bar_style": "success",
            "description": "",
            "description_tooltip": null,
            "layout": "IPY_MODEL_9e2889e41c714383887b0490779da22e",
            "max": 1776048343,
            "min": 0,
            "orientation": "horizontal",
            "style": "IPY_MODEL_58229266ded24d53ae6f0cd41063eaf3",
            "value": 1776048343
          }
        },
        "38da79af43d84b3486f2f50d6c444b31": {
          "model_module": "@jupyter-widgets/controls",
          "model_name": "HTMLModel",
          "model_module_version": "1.5.0",
          "state": {
            "_dom_classes": [],
            "_model_module": "@jupyter-widgets/controls",
            "_model_module_version": "1.5.0",
            "_model_name": "HTMLModel",
            "_view_count": null,
            "_view_module": "@jupyter-widgets/controls",
            "_view_module_version": "1.5.0",
            "_view_name": "HTMLView",
            "description": "",
            "description_tooltip": null,
            "layout": "IPY_MODEL_d2a8c27713314032a22776abcde3310e",
            "placeholder": "​",
            "style": "IPY_MODEL_ca273e2abcd5402f9c3990930303607c",
            "value": " 1.78G/1.78G [00:26&lt;00:00, 28.6MiB/s]"
          }
        },
        "140a6e738e7045509d1a51be9400f1e7": {
          "model_module": "@jupyter-widgets/base",
          "model_name": "LayoutModel",
          "model_module_version": "1.2.0",
          "state": {
            "_model_module": "@jupyter-widgets/base",
            "_model_module_version": "1.2.0",
            "_model_name": "LayoutModel",
            "_view_count": null,
            "_view_module": "@jupyter-widgets/base",
            "_view_module_version": "1.2.0",
            "_view_name": "LayoutView",
            "align_content": null,
            "align_items": null,
            "align_self": null,
            "border": null,
            "bottom": null,
            "display": null,
            "flex": null,
            "flex_flow": null,
            "grid_area": null,
            "grid_auto_columns": null,
            "grid_auto_flow": null,
            "grid_auto_rows": null,
            "grid_column": null,
            "grid_gap": null,
            "grid_row": null,
            "grid_template_areas": null,
            "grid_template_columns": null,
            "grid_template_rows": null,
            "height": null,
            "justify_content": null,
            "justify_items": null,
            "left": null,
            "margin": null,
            "max_height": null,
            "max_width": null,
            "min_height": null,
            "min_width": null,
            "object_fit": null,
            "object_position": null,
            "order": null,
            "overflow": null,
            "overflow_x": null,
            "overflow_y": null,
            "padding": null,
            "right": null,
            "top": null,
            "visibility": null,
            "width": null
          }
        },
        "61be4c8088434895b36c9b356e34f706": {
          "model_module": "@jupyter-widgets/base",
          "model_name": "LayoutModel",
          "model_module_version": "1.2.0",
          "state": {
            "_model_module": "@jupyter-widgets/base",
            "_model_module_version": "1.2.0",
            "_model_name": "LayoutModel",
            "_view_count": null,
            "_view_module": "@jupyter-widgets/base",
            "_view_module_version": "1.2.0",
            "_view_name": "LayoutView",
            "align_content": null,
            "align_items": null,
            "align_self": null,
            "border": null,
            "bottom": null,
            "display": null,
            "flex": null,
            "flex_flow": null,
            "grid_area": null,
            "grid_auto_columns": null,
            "grid_auto_flow": null,
            "grid_auto_rows": null,
            "grid_column": null,
            "grid_gap": null,
            "grid_row": null,
            "grid_template_areas": null,
            "grid_template_columns": null,
            "grid_template_rows": null,
            "height": null,
            "justify_content": null,
            "justify_items": null,
            "left": null,
            "margin": null,
            "max_height": null,
            "max_width": null,
            "min_height": null,
            "min_width": null,
            "object_fit": null,
            "object_position": null,
            "order": null,
            "overflow": null,
            "overflow_x": null,
            "overflow_y": null,
            "padding": null,
            "right": null,
            "top": null,
            "visibility": null,
            "width": null
          }
        },
        "06da25dccf984c0691d390463423b3ac": {
          "model_module": "@jupyter-widgets/controls",
          "model_name": "DescriptionStyleModel",
          "model_module_version": "1.5.0",
          "state": {
            "_model_module": "@jupyter-widgets/controls",
            "_model_module_version": "1.5.0",
            "_model_name": "DescriptionStyleModel",
            "_view_count": null,
            "_view_module": "@jupyter-widgets/base",
            "_view_module_version": "1.2.0",
            "_view_name": "StyleView",
            "description_width": ""
          }
        },
        "9e2889e41c714383887b0490779da22e": {
          "model_module": "@jupyter-widgets/base",
          "model_name": "LayoutModel",
          "model_module_version": "1.2.0",
          "state": {
            "_model_module": "@jupyter-widgets/base",
            "_model_module_version": "1.2.0",
            "_model_name": "LayoutModel",
            "_view_count": null,
            "_view_module": "@jupyter-widgets/base",
            "_view_module_version": "1.2.0",
            "_view_name": "LayoutView",
            "align_content": null,
            "align_items": null,
            "align_self": null,
            "border": null,
            "bottom": null,
            "display": null,
            "flex": null,
            "flex_flow": null,
            "grid_area": null,
            "grid_auto_columns": null,
            "grid_auto_flow": null,
            "grid_auto_rows": null,
            "grid_column": null,
            "grid_gap": null,
            "grid_row": null,
            "grid_template_areas": null,
            "grid_template_columns": null,
            "grid_template_rows": null,
            "height": null,
            "justify_content": null,
            "justify_items": null,
            "left": null,
            "margin": null,
            "max_height": null,
            "max_width": null,
            "min_height": null,
            "min_width": null,
            "object_fit": null,
            "object_position": null,
            "order": null,
            "overflow": null,
            "overflow_x": null,
            "overflow_y": null,
            "padding": null,
            "right": null,
            "top": null,
            "visibility": null,
            "width": null
          }
        },
        "58229266ded24d53ae6f0cd41063eaf3": {
          "model_module": "@jupyter-widgets/controls",
          "model_name": "ProgressStyleModel",
          "model_module_version": "1.5.0",
          "state": {
            "_model_module": "@jupyter-widgets/controls",
            "_model_module_version": "1.5.0",
            "_model_name": "ProgressStyleModel",
            "_view_count": null,
            "_view_module": "@jupyter-widgets/base",
            "_view_module_version": "1.2.0",
            "_view_name": "StyleView",
            "bar_color": null,
            "description_width": ""
          }
        },
        "d2a8c27713314032a22776abcde3310e": {
          "model_module": "@jupyter-widgets/base",
          "model_name": "LayoutModel",
          "model_module_version": "1.2.0",
          "state": {
            "_model_module": "@jupyter-widgets/base",
            "_model_module_version": "1.2.0",
            "_model_name": "LayoutModel",
            "_view_count": null,
            "_view_module": "@jupyter-widgets/base",
            "_view_module_version": "1.2.0",
            "_view_name": "LayoutView",
            "align_content": null,
            "align_items": null,
            "align_self": null,
            "border": null,
            "bottom": null,
            "display": null,
            "flex": null,
            "flex_flow": null,
            "grid_area": null,
            "grid_auto_columns": null,
            "grid_auto_flow": null,
            "grid_auto_rows": null,
            "grid_column": null,
            "grid_gap": null,
            "grid_row": null,
            "grid_template_areas": null,
            "grid_template_columns": null,
            "grid_template_rows": null,
            "height": null,
            "justify_content": null,
            "justify_items": null,
            "left": null,
            "margin": null,
            "max_height": null,
            "max_width": null,
            "min_height": null,
            "min_width": null,
            "object_fit": null,
            "object_position": null,
            "order": null,
            "overflow": null,
            "overflow_x": null,
            "overflow_y": null,
            "padding": null,
            "right": null,
            "top": null,
            "visibility": null,
            "width": null
          }
        },
        "ca273e2abcd5402f9c3990930303607c": {
          "model_module": "@jupyter-widgets/controls",
          "model_name": "DescriptionStyleModel",
          "model_module_version": "1.5.0",
          "state": {
            "_model_module": "@jupyter-widgets/controls",
            "_model_module_version": "1.5.0",
            "_model_name": "DescriptionStyleModel",
            "_view_count": null,
            "_view_module": "@jupyter-widgets/base",
            "_view_module_version": "1.2.0",
            "_view_name": "StyleView",
            "description_width": ""
          }
        },
        "09ce8d0a7a9a44feb4fdf7ac08c3ac4d": {
          "model_module": "@jupyter-widgets/controls",
          "model_name": "HBoxModel",
          "model_module_version": "1.5.0",
          "state": {
            "_dom_classes": [],
            "_model_module": "@jupyter-widgets/controls",
            "_model_module_version": "1.5.0",
            "_model_name": "HBoxModel",
            "_view_count": null,
            "_view_module": "@jupyter-widgets/controls",
            "_view_module_version": "1.5.0",
            "_view_name": "HBoxView",
            "box_style": "",
            "children": [
              "IPY_MODEL_7733bd651b764c46bb6fb8856a3c175f",
              "IPY_MODEL_1ac8d3cda8724621b76ff7ede01fb37f",
              "IPY_MODEL_fa704996f8324c27a483a615246ffed2"
            ],
            "layout": "IPY_MODEL_7235c15d545a47f1ba730a1fa8ee6fb6"
          }
        },
        "7733bd651b764c46bb6fb8856a3c175f": {
          "model_module": "@jupyter-widgets/controls",
          "model_name": "HTMLModel",
          "model_module_version": "1.5.0",
          "state": {
            "_dom_classes": [],
            "_model_module": "@jupyter-widgets/controls",
            "_model_module_version": "1.5.0",
            "_model_name": "HTMLModel",
            "_view_count": null,
            "_view_module": "@jupyter-widgets/controls",
            "_view_module_version": "1.5.0",
            "_view_name": "HTMLView",
            "description": "",
            "description_tooltip": null,
            "layout": "IPY_MODEL_6132d7c389004e4bb70de05001bbb86d",
            "placeholder": "​",
            "style": "IPY_MODEL_19fdca2b457c474894c79f186583c19f",
            "value": "100%"
          }
        },
        "1ac8d3cda8724621b76ff7ede01fb37f": {
          "model_module": "@jupyter-widgets/controls",
          "model_name": "FloatProgressModel",
          "model_module_version": "1.5.0",
          "state": {
            "_dom_classes": [],
            "_model_module": "@jupyter-widgets/controls",
            "_model_module_version": "1.5.0",
            "_model_name": "FloatProgressModel",
            "_view_count": null,
            "_view_module": "@jupyter-widgets/controls",
            "_view_module_version": "1.5.0",
            "_view_name": "ProgressView",
            "bar_style": "success",
            "description": "",
            "description_tooltip": null,
            "layout": "IPY_MODEL_816278e74c93451eb1e3ae26bcd54696",
            "max": 1262868003,
            "min": 0,
            "orientation": "horizontal",
            "style": "IPY_MODEL_11584237e54c42e88438c0e0ba81ca22",
            "value": 1262868003
          }
        },
        "fa704996f8324c27a483a615246ffed2": {
          "model_module": "@jupyter-widgets/controls",
          "model_name": "HTMLModel",
          "model_module_version": "1.5.0",
          "state": {
            "_dom_classes": [],
            "_model_module": "@jupyter-widgets/controls",
            "_model_module_version": "1.5.0",
            "_model_name": "HTMLModel",
            "_view_count": null,
            "_view_module": "@jupyter-widgets/controls",
            "_view_module_version": "1.5.0",
            "_view_name": "HTMLView",
            "description": "",
            "description_tooltip": null,
            "layout": "IPY_MODEL_e75b61901e124bec939cf6edf686c2a3",
            "placeholder": "​",
            "style": "IPY_MODEL_9f7facbb32004f8bb290667ae5e82153",
            "value": " 1.26G/1.26G [02:43&lt;00:00, 6.87MiB/s]"
          }
        },
        "7235c15d545a47f1ba730a1fa8ee6fb6": {
          "model_module": "@jupyter-widgets/base",
          "model_name": "LayoutModel",
          "model_module_version": "1.2.0",
          "state": {
            "_model_module": "@jupyter-widgets/base",
            "_model_module_version": "1.2.0",
            "_model_name": "LayoutModel",
            "_view_count": null,
            "_view_module": "@jupyter-widgets/base",
            "_view_module_version": "1.2.0",
            "_view_name": "LayoutView",
            "align_content": null,
            "align_items": null,
            "align_self": null,
            "border": null,
            "bottom": null,
            "display": null,
            "flex": null,
            "flex_flow": null,
            "grid_area": null,
            "grid_auto_columns": null,
            "grid_auto_flow": null,
            "grid_auto_rows": null,
            "grid_column": null,
            "grid_gap": null,
            "grid_row": null,
            "grid_template_areas": null,
            "grid_template_columns": null,
            "grid_template_rows": null,
            "height": null,
            "justify_content": null,
            "justify_items": null,
            "left": null,
            "margin": null,
            "max_height": null,
            "max_width": null,
            "min_height": null,
            "min_width": null,
            "object_fit": null,
            "object_position": null,
            "order": null,
            "overflow": null,
            "overflow_x": null,
            "overflow_y": null,
            "padding": null,
            "right": null,
            "top": null,
            "visibility": null,
            "width": null
          }
        },
        "6132d7c389004e4bb70de05001bbb86d": {
          "model_module": "@jupyter-widgets/base",
          "model_name": "LayoutModel",
          "model_module_version": "1.2.0",
          "state": {
            "_model_module": "@jupyter-widgets/base",
            "_model_module_version": "1.2.0",
            "_model_name": "LayoutModel",
            "_view_count": null,
            "_view_module": "@jupyter-widgets/base",
            "_view_module_version": "1.2.0",
            "_view_name": "LayoutView",
            "align_content": null,
            "align_items": null,
            "align_self": null,
            "border": null,
            "bottom": null,
            "display": null,
            "flex": null,
            "flex_flow": null,
            "grid_area": null,
            "grid_auto_columns": null,
            "grid_auto_flow": null,
            "grid_auto_rows": null,
            "grid_column": null,
            "grid_gap": null,
            "grid_row": null,
            "grid_template_areas": null,
            "grid_template_columns": null,
            "grid_template_rows": null,
            "height": null,
            "justify_content": null,
            "justify_items": null,
            "left": null,
            "margin": null,
            "max_height": null,
            "max_width": null,
            "min_height": null,
            "min_width": null,
            "object_fit": null,
            "object_position": null,
            "order": null,
            "overflow": null,
            "overflow_x": null,
            "overflow_y": null,
            "padding": null,
            "right": null,
            "top": null,
            "visibility": null,
            "width": null
          }
        },
        "19fdca2b457c474894c79f186583c19f": {
          "model_module": "@jupyter-widgets/controls",
          "model_name": "DescriptionStyleModel",
          "model_module_version": "1.5.0",
          "state": {
            "_model_module": "@jupyter-widgets/controls",
            "_model_module_version": "1.5.0",
            "_model_name": "DescriptionStyleModel",
            "_view_count": null,
            "_view_module": "@jupyter-widgets/base",
            "_view_module_version": "1.2.0",
            "_view_name": "StyleView",
            "description_width": ""
          }
        },
        "816278e74c93451eb1e3ae26bcd54696": {
          "model_module": "@jupyter-widgets/base",
          "model_name": "LayoutModel",
          "model_module_version": "1.2.0",
          "state": {
            "_model_module": "@jupyter-widgets/base",
            "_model_module_version": "1.2.0",
            "_model_name": "LayoutModel",
            "_view_count": null,
            "_view_module": "@jupyter-widgets/base",
            "_view_module_version": "1.2.0",
            "_view_name": "LayoutView",
            "align_content": null,
            "align_items": null,
            "align_self": null,
            "border": null,
            "bottom": null,
            "display": null,
            "flex": null,
            "flex_flow": null,
            "grid_area": null,
            "grid_auto_columns": null,
            "grid_auto_flow": null,
            "grid_auto_rows": null,
            "grid_column": null,
            "grid_gap": null,
            "grid_row": null,
            "grid_template_areas": null,
            "grid_template_columns": null,
            "grid_template_rows": null,
            "height": null,
            "justify_content": null,
            "justify_items": null,
            "left": null,
            "margin": null,
            "max_height": null,
            "max_width": null,
            "min_height": null,
            "min_width": null,
            "object_fit": null,
            "object_position": null,
            "order": null,
            "overflow": null,
            "overflow_x": null,
            "overflow_y": null,
            "padding": null,
            "right": null,
            "top": null,
            "visibility": null,
            "width": null
          }
        },
        "11584237e54c42e88438c0e0ba81ca22": {
          "model_module": "@jupyter-widgets/controls",
          "model_name": "ProgressStyleModel",
          "model_module_version": "1.5.0",
          "state": {
            "_model_module": "@jupyter-widgets/controls",
            "_model_module_version": "1.5.0",
            "_model_name": "ProgressStyleModel",
            "_view_count": null,
            "_view_module": "@jupyter-widgets/base",
            "_view_module_version": "1.2.0",
            "_view_name": "StyleView",
            "bar_color": null,
            "description_width": ""
          }
        },
        "e75b61901e124bec939cf6edf686c2a3": {
          "model_module": "@jupyter-widgets/base",
          "model_name": "LayoutModel",
          "model_module_version": "1.2.0",
          "state": {
            "_model_module": "@jupyter-widgets/base",
            "_model_module_version": "1.2.0",
            "_model_name": "LayoutModel",
            "_view_count": null,
            "_view_module": "@jupyter-widgets/base",
            "_view_module_version": "1.2.0",
            "_view_name": "LayoutView",
            "align_content": null,
            "align_items": null,
            "align_self": null,
            "border": null,
            "bottom": null,
            "display": null,
            "flex": null,
            "flex_flow": null,
            "grid_area": null,
            "grid_auto_columns": null,
            "grid_auto_flow": null,
            "grid_auto_rows": null,
            "grid_column": null,
            "grid_gap": null,
            "grid_row": null,
            "grid_template_areas": null,
            "grid_template_columns": null,
            "grid_template_rows": null,
            "height": null,
            "justify_content": null,
            "justify_items": null,
            "left": null,
            "margin": null,
            "max_height": null,
            "max_width": null,
            "min_height": null,
            "min_width": null,
            "object_fit": null,
            "object_position": null,
            "order": null,
            "overflow": null,
            "overflow_x": null,
            "overflow_y": null,
            "padding": null,
            "right": null,
            "top": null,
            "visibility": null,
            "width": null
          }
        },
        "9f7facbb32004f8bb290667ae5e82153": {
          "model_module": "@jupyter-widgets/controls",
          "model_name": "DescriptionStyleModel",
          "model_module_version": "1.5.0",
          "state": {
            "_model_module": "@jupyter-widgets/controls",
            "_model_module_version": "1.5.0",
            "_model_name": "DescriptionStyleModel",
            "_view_count": null,
            "_view_module": "@jupyter-widgets/base",
            "_view_module_version": "1.2.0",
            "_view_name": "StyleView",
            "description_width": ""
          }
        },
        "d64bae0f083b4be09e0c3ab7afbbcfd4": {
          "model_module": "@jupyter-widgets/controls",
          "model_name": "HBoxModel",
          "model_module_version": "1.5.0",
          "state": {
            "_dom_classes": [],
            "_model_module": "@jupyter-widgets/controls",
            "_model_module_version": "1.5.0",
            "_model_name": "HBoxModel",
            "_view_count": null,
            "_view_module": "@jupyter-widgets/controls",
            "_view_module_version": "1.5.0",
            "_view_name": "HBoxView",
            "box_style": "",
            "children": [
              "IPY_MODEL_ad47e99333a24ab1844e59f4da70e498",
              "IPY_MODEL_1afc62c98f7b4a0895de00ffca800152",
              "IPY_MODEL_624cb5b0bda047f0b5d0efecf6db4f46"
            ],
            "layout": "IPY_MODEL_151c6f14116d4c178ae6938d3296ec27"
          }
        },
        "ad47e99333a24ab1844e59f4da70e498": {
          "model_module": "@jupyter-widgets/controls",
          "model_name": "HTMLModel",
          "model_module_version": "1.5.0",
          "state": {
            "_dom_classes": [],
            "_model_module": "@jupyter-widgets/controls",
            "_model_module_version": "1.5.0",
            "_model_name": "HTMLModel",
            "_view_count": null,
            "_view_module": "@jupyter-widgets/controls",
            "_view_module_version": "1.5.0",
            "_view_name": "HTMLView",
            "description": "",
            "description_tooltip": null,
            "layout": "IPY_MODEL_bc23ea22cde24643a3571b661edb4ee0",
            "placeholder": "​",
            "style": "IPY_MODEL_c67db4e4c9d64800afe9ae62ac8b9e30",
            "value": "100%"
          }
        },
        "1afc62c98f7b4a0895de00ffca800152": {
          "model_module": "@jupyter-widgets/controls",
          "model_name": "FloatProgressModel",
          "model_module_version": "1.5.0",
          "state": {
            "_dom_classes": [],
            "_model_module": "@jupyter-widgets/controls",
            "_model_module_version": "1.5.0",
            "_model_name": "FloatProgressModel",
            "_view_count": null,
            "_view_module": "@jupyter-widgets/controls",
            "_view_module_version": "1.5.0",
            "_view_name": "ProgressView",
            "bar_style": "success",
            "description": "",
            "description_tooltip": null,
            "layout": "IPY_MODEL_58e75472a49546909f78034867241404",
            "max": 64,
            "min": 0,
            "orientation": "horizontal",
            "style": "IPY_MODEL_ae467e682a854bf8beaaf381586e8765",
            "value": 64
          }
        },
        "624cb5b0bda047f0b5d0efecf6db4f46": {
          "model_module": "@jupyter-widgets/controls",
          "model_name": "HTMLModel",
          "model_module_version": "1.5.0",
          "state": {
            "_dom_classes": [],
            "_model_module": "@jupyter-widgets/controls",
            "_model_module_version": "1.5.0",
            "_model_name": "HTMLModel",
            "_view_count": null,
            "_view_module": "@jupyter-widgets/controls",
            "_view_module_version": "1.5.0",
            "_view_name": "HTMLView",
            "description": "",
            "description_tooltip": null,
            "layout": "IPY_MODEL_21d4d4c98ddd4339b130242c34c8c0cd",
            "placeholder": "​",
            "style": "IPY_MODEL_8b2bd8b42e894e92ae8eb1c96ab70da6",
            "value": " 64/64 [00:29&lt;00:00,  2.50it/s]"
          }
        },
        "151c6f14116d4c178ae6938d3296ec27": {
          "model_module": "@jupyter-widgets/base",
          "model_name": "LayoutModel",
          "model_module_version": "1.2.0",
          "state": {
            "_model_module": "@jupyter-widgets/base",
            "_model_module_version": "1.2.0",
            "_model_name": "LayoutModel",
            "_view_count": null,
            "_view_module": "@jupyter-widgets/base",
            "_view_module_version": "1.2.0",
            "_view_name": "LayoutView",
            "align_content": null,
            "align_items": null,
            "align_self": null,
            "border": null,
            "bottom": null,
            "display": null,
            "flex": null,
            "flex_flow": null,
            "grid_area": null,
            "grid_auto_columns": null,
            "grid_auto_flow": null,
            "grid_auto_rows": null,
            "grid_column": null,
            "grid_gap": null,
            "grid_row": null,
            "grid_template_areas": null,
            "grid_template_columns": null,
            "grid_template_rows": null,
            "height": null,
            "justify_content": null,
            "justify_items": null,
            "left": null,
            "margin": null,
            "max_height": null,
            "max_width": null,
            "min_height": null,
            "min_width": null,
            "object_fit": null,
            "object_position": null,
            "order": null,
            "overflow": null,
            "overflow_x": null,
            "overflow_y": null,
            "padding": null,
            "right": null,
            "top": null,
            "visibility": null,
            "width": null
          }
        },
        "bc23ea22cde24643a3571b661edb4ee0": {
          "model_module": "@jupyter-widgets/base",
          "model_name": "LayoutModel",
          "model_module_version": "1.2.0",
          "state": {
            "_model_module": "@jupyter-widgets/base",
            "_model_module_version": "1.2.0",
            "_model_name": "LayoutModel",
            "_view_count": null,
            "_view_module": "@jupyter-widgets/base",
            "_view_module_version": "1.2.0",
            "_view_name": "LayoutView",
            "align_content": null,
            "align_items": null,
            "align_self": null,
            "border": null,
            "bottom": null,
            "display": null,
            "flex": null,
            "flex_flow": null,
            "grid_area": null,
            "grid_auto_columns": null,
            "grid_auto_flow": null,
            "grid_auto_rows": null,
            "grid_column": null,
            "grid_gap": null,
            "grid_row": null,
            "grid_template_areas": null,
            "grid_template_columns": null,
            "grid_template_rows": null,
            "height": null,
            "justify_content": null,
            "justify_items": null,
            "left": null,
            "margin": null,
            "max_height": null,
            "max_width": null,
            "min_height": null,
            "min_width": null,
            "object_fit": null,
            "object_position": null,
            "order": null,
            "overflow": null,
            "overflow_x": null,
            "overflow_y": null,
            "padding": null,
            "right": null,
            "top": null,
            "visibility": null,
            "width": null
          }
        },
        "c67db4e4c9d64800afe9ae62ac8b9e30": {
          "model_module": "@jupyter-widgets/controls",
          "model_name": "DescriptionStyleModel",
          "model_module_version": "1.5.0",
          "state": {
            "_model_module": "@jupyter-widgets/controls",
            "_model_module_version": "1.5.0",
            "_model_name": "DescriptionStyleModel",
            "_view_count": null,
            "_view_module": "@jupyter-widgets/base",
            "_view_module_version": "1.2.0",
            "_view_name": "StyleView",
            "description_width": ""
          }
        },
        "58e75472a49546909f78034867241404": {
          "model_module": "@jupyter-widgets/base",
          "model_name": "LayoutModel",
          "model_module_version": "1.2.0",
          "state": {
            "_model_module": "@jupyter-widgets/base",
            "_model_module_version": "1.2.0",
            "_model_name": "LayoutModel",
            "_view_count": null,
            "_view_module": "@jupyter-widgets/base",
            "_view_module_version": "1.2.0",
            "_view_name": "LayoutView",
            "align_content": null,
            "align_items": null,
            "align_self": null,
            "border": null,
            "bottom": null,
            "display": null,
            "flex": null,
            "flex_flow": null,
            "grid_area": null,
            "grid_auto_columns": null,
            "grid_auto_flow": null,
            "grid_auto_rows": null,
            "grid_column": null,
            "grid_gap": null,
            "grid_row": null,
            "grid_template_areas": null,
            "grid_template_columns": null,
            "grid_template_rows": null,
            "height": null,
            "justify_content": null,
            "justify_items": null,
            "left": null,
            "margin": null,
            "max_height": null,
            "max_width": null,
            "min_height": null,
            "min_width": null,
            "object_fit": null,
            "object_position": null,
            "order": null,
            "overflow": null,
            "overflow_x": null,
            "overflow_y": null,
            "padding": null,
            "right": null,
            "top": null,
            "visibility": null,
            "width": null
          }
        },
        "ae467e682a854bf8beaaf381586e8765": {
          "model_module": "@jupyter-widgets/controls",
          "model_name": "ProgressStyleModel",
          "model_module_version": "1.5.0",
          "state": {
            "_model_module": "@jupyter-widgets/controls",
            "_model_module_version": "1.5.0",
            "_model_name": "ProgressStyleModel",
            "_view_count": null,
            "_view_module": "@jupyter-widgets/base",
            "_view_module_version": "1.2.0",
            "_view_name": "StyleView",
            "bar_color": null,
            "description_width": ""
          }
        },
        "21d4d4c98ddd4339b130242c34c8c0cd": {
          "model_module": "@jupyter-widgets/base",
          "model_name": "LayoutModel",
          "model_module_version": "1.2.0",
          "state": {
            "_model_module": "@jupyter-widgets/base",
            "_model_module_version": "1.2.0",
            "_model_name": "LayoutModel",
            "_view_count": null,
            "_view_module": "@jupyter-widgets/base",
            "_view_module_version": "1.2.0",
            "_view_name": "LayoutView",
            "align_content": null,
            "align_items": null,
            "align_self": null,
            "border": null,
            "bottom": null,
            "display": null,
            "flex": null,
            "flex_flow": null,
            "grid_area": null,
            "grid_auto_columns": null,
            "grid_auto_flow": null,
            "grid_auto_rows": null,
            "grid_column": null,
            "grid_gap": null,
            "grid_row": null,
            "grid_template_areas": null,
            "grid_template_columns": null,
            "grid_template_rows": null,
            "height": null,
            "justify_content": null,
            "justify_items": null,
            "left": null,
            "margin": null,
            "max_height": null,
            "max_width": null,
            "min_height": null,
            "min_width": null,
            "object_fit": null,
            "object_position": null,
            "order": null,
            "overflow": null,
            "overflow_x": null,
            "overflow_y": null,
            "padding": null,
            "right": null,
            "top": null,
            "visibility": null,
            "width": null
          }
        },
        "8b2bd8b42e894e92ae8eb1c96ab70da6": {
          "model_module": "@jupyter-widgets/controls",
          "model_name": "DescriptionStyleModel",
          "model_module_version": "1.5.0",
          "state": {
            "_model_module": "@jupyter-widgets/controls",
            "_model_module_version": "1.5.0",
            "_model_name": "DescriptionStyleModel",
            "_view_count": null,
            "_view_module": "@jupyter-widgets/base",
            "_view_module_version": "1.2.0",
            "_view_name": "StyleView",
            "description_width": ""
          }
        },
        "32f5249a89684f5188b24973aa98a49a": {
          "model_module": "@jupyter-widgets/controls",
          "model_name": "HTMLModel",
          "model_module_version": "1.5.0",
          "state": {
            "_dom_classes": [],
            "_model_module": "@jupyter-widgets/controls",
            "_model_module_version": "1.5.0",
            "_model_name": "HTMLModel",
            "_view_count": null,
            "_view_module": "@jupyter-widgets/controls",
            "_view_module_version": "1.5.0",
            "_view_name": "HTMLView",
            "description": "",
            "description_tooltip": null,
            "layout": "IPY_MODEL_fbbe021698574ddba2ea62a34b93be5e",
            "placeholder": "​",
            "style": "IPY_MODEL_e7862f537d5045f992d629e4dbf0e31a",
            "value": "<img src=\"data:image/gif;base64,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\" />"
          }
        },
        "fbbe021698574ddba2ea62a34b93be5e": {
          "model_module": "@jupyter-widgets/base",
          "model_name": "LayoutModel",
          "model_module_version": "1.2.0",
          "state": {
            "_model_module": "@jupyter-widgets/base",
            "_model_module_version": "1.2.0",
            "_model_name": "LayoutModel",
            "_view_count": null,
            "_view_module": "@jupyter-widgets/base",
            "_view_module_version": "1.2.0",
            "_view_name": "LayoutView",
            "align_content": null,
            "align_items": null,
            "align_self": null,
            "border": null,
            "bottom": null,
            "display": null,
            "flex": null,
            "flex_flow": null,
            "grid_area": null,
            "grid_auto_columns": null,
            "grid_auto_flow": null,
            "grid_auto_rows": null,
            "grid_column": null,
            "grid_gap": null,
            "grid_row": null,
            "grid_template_areas": null,
            "grid_template_columns": null,
            "grid_template_rows": null,
            "height": null,
            "justify_content": null,
            "justify_items": null,
            "left": null,
            "margin": null,
            "max_height": null,
            "max_width": null,
            "min_height": null,
            "min_width": null,
            "object_fit": null,
            "object_position": null,
            "order": null,
            "overflow": null,
            "overflow_x": null,
            "overflow_y": null,
            "padding": null,
            "right": null,
            "top": null,
            "visibility": null,
            "width": null
          }
        },
        "e7862f537d5045f992d629e4dbf0e31a": {
          "model_module": "@jupyter-widgets/controls",
          "model_name": "DescriptionStyleModel",
          "model_module_version": "1.5.0",
          "state": {
            "_model_module": "@jupyter-widgets/controls",
            "_model_module_version": "1.5.0",
            "_model_name": "DescriptionStyleModel",
            "_view_count": null,
            "_view_module": "@jupyter-widgets/base",
            "_view_module_version": "1.2.0",
            "_view_name": "StyleView",
            "description_width": ""
          }
        }
      }
    }
  },
  "cells": [
    {
      "cell_type": "code",
      "execution_count": 1,
      "metadata": {
        "colab": {
          "base_uri": "https://localhost:8080/"
        },
        "id": "JyofjbHz6XJo",
        "outputId": "b4d7ca9b-06d8-4433-f4a2-bbce8763b62b"
      },
      "outputs": [
        {
          "output_type": "stream",
          "name": "stdout",
          "text": [
            "\u001b[2K   \u001b[90m━━━━━━━━━━━━━━━━━━━━━━━━━━━━━━━━━━━━━━━━\u001b[0m \u001b[32m709.0/709.0 kB\u001b[0m \u001b[31m15.7 MB/s\u001b[0m eta \u001b[36m0:00:00\u001b[0m\n",
            "\u001b[2K   \u001b[90m━━━━━━━━━━━━━━━━━━━━━━━━━━━━━━━━━━━━━━━━\u001b[0m \u001b[32m262.2/262.2 kB\u001b[0m \u001b[31m7.2 MB/s\u001b[0m eta \u001b[36m0:00:00\u001b[0m\n",
            "\u001b[2K   \u001b[90m━━━━━━━━━━━━━━━━━━━━━━━━━━━━━━━━━━━━━━━━\u001b[0m \u001b[32m363.4/363.4 MB\u001b[0m \u001b[31m4.1 MB/s\u001b[0m eta \u001b[36m0:00:00\u001b[0m\n",
            "\u001b[2K   \u001b[90m━━━━━━━━━━━━━━━━━━━━━━━━━━━━━━━━━━━━━━━━\u001b[0m \u001b[32m13.8/13.8 MB\u001b[0m \u001b[31m127.5 MB/s\u001b[0m eta \u001b[36m0:00:00\u001b[0m\n",
            "\u001b[2K   \u001b[90m━━━━━━━━━━━━━━━━━━━━━━━━━━━━━━━━━━━━━━━━\u001b[0m \u001b[32m24.6/24.6 MB\u001b[0m \u001b[31m95.4 MB/s\u001b[0m eta \u001b[36m0:00:00\u001b[0m\n",
            "\u001b[2K   \u001b[90m━━━━━━━━━━━━━━━━━━━━━━━━━━━━━━━━━━━━━━━━\u001b[0m \u001b[32m883.7/883.7 kB\u001b[0m \u001b[31m62.2 MB/s\u001b[0m eta \u001b[36m0:00:00\u001b[0m\n",
            "\u001b[2K   \u001b[90m━━━━━━━━━━━━━━━━━━━━━━━━━━━━━━━━━━━━━━━━\u001b[0m \u001b[32m664.8/664.8 MB\u001b[0m \u001b[31m2.4 MB/s\u001b[0m eta \u001b[36m0:00:00\u001b[0m\n",
            "\u001b[2K   \u001b[90m━━━━━━━━━━━━━━━━━━━━━━━━━━━━━━━━━━━━━━━━\u001b[0m \u001b[32m211.5/211.5 MB\u001b[0m \u001b[31m5.4 MB/s\u001b[0m eta \u001b[36m0:00:00\u001b[0m\n",
            "\u001b[2K   \u001b[90m━━━━━━━━━━━━━━━━━━━━━━━━━━━━━━━━━━━━━━━━\u001b[0m \u001b[32m56.3/56.3 MB\u001b[0m \u001b[31m15.6 MB/s\u001b[0m eta \u001b[36m0:00:00\u001b[0m\n",
            "\u001b[2K   \u001b[90m━━━━━━━━━━━━━━━━━━━━━━━━━━━━━━━━━━━━━━━━\u001b[0m \u001b[32m127.9/127.9 MB\u001b[0m \u001b[31m8.2 MB/s\u001b[0m eta \u001b[36m0:00:00\u001b[0m\n",
            "\u001b[2K   \u001b[90m━━━━━━━━━━━━━━━━━━━━━━━━━━━━━━━━━━━━━━━━\u001b[0m \u001b[32m207.5/207.5 MB\u001b[0m \u001b[31m5.5 MB/s\u001b[0m eta \u001b[36m0:00:00\u001b[0m\n",
            "\u001b[2K   \u001b[90m━━━━━━━━━━━━━━━━━━━━━━━━━━━━━━━━━━━━━━━━\u001b[0m \u001b[32m21.1/21.1 MB\u001b[0m \u001b[31m111.6 MB/s\u001b[0m eta \u001b[36m0:00:00\u001b[0m\n",
            "\u001b[?25h"
          ]
        }
      ],
      "source": [
        "# Install required libraries\n",
        "!pip install -q trimesh\n",
        "!pip install -q xatlas\n",
        "!pip install -q diffusers transformers accelerate\n"
      ]
    },
    {
      "cell_type": "code",
      "source": [
        "# Clone the Shap-E repository\n",
        "!git clone https://github.com/openai/shap-e.git\n",
        "\n",
        "# Navigate into the cloned directory\n",
        "%cd shap-e\n",
        "\n",
        "# Install Shap-E in editable mode\n",
        "!pip install -e ."
      ],
      "metadata": {
        "colab": {
          "base_uri": "https://localhost:8080/"
        },
        "id": "FxGyVQkF6sU2",
        "outputId": "b11aec2c-67e4-408e-9e3f-d6afd169e01c"
      },
      "execution_count": 2,
      "outputs": [
        {
          "output_type": "stream",
          "name": "stdout",
          "text": [
            "Cloning into 'shap-e'...\n",
            "remote: Enumerating objects: 336, done.\u001b[K\n",
            "remote: Counting objects: 100% (55/55), done.\u001b[K\n",
            "remote: Compressing objects: 100% (42/42), done.\u001b[K\n",
            "remote: Total 336 (delta 35), reused 13 (delta 13), pack-reused 281 (from 2)\u001b[K\n",
            "Receiving objects: 100% (336/336), 11.72 MiB | 15.39 MiB/s, done.\n",
            "Resolving deltas: 100% (43/43), done.\n",
            "/content/shap-e\n",
            "Obtaining file:///content/shap-e\n",
            "  Preparing metadata (setup.py) ... \u001b[?25l\u001b[?25hdone\n",
            "Collecting clip@ git+https://github.com/openai/CLIP.git (from shap-e==0.0.0)\n",
            "  Cloning https://github.com/openai/CLIP.git to /tmp/pip-install-3jgd9p6x/clip_32c7cd676fe641b4856e20b49f86a14e\n",
            "  Running command git clone --filter=blob:none --quiet https://github.com/openai/CLIP.git /tmp/pip-install-3jgd9p6x/clip_32c7cd676fe641b4856e20b49f86a14e\n",
            "  Resolved https://github.com/openai/CLIP.git to commit dcba3cb2e2827b402d2701e7e1c7d9fed8a20ef1\n",
            "  Preparing metadata (setup.py) ... \u001b[?25l\u001b[?25hdone\n",
            "Requirement already satisfied: filelock in /usr/local/lib/python3.11/dist-packages (from shap-e==0.0.0) (3.18.0)\n",
            "Requirement already satisfied: Pillow in /usr/local/lib/python3.11/dist-packages (from shap-e==0.0.0) (11.3.0)\n",
            "Requirement already satisfied: torch in /usr/local/lib/python3.11/dist-packages (from shap-e==0.0.0) (2.6.0+cu124)\n",
            "Collecting fire (from shap-e==0.0.0)\n",
            "  Downloading fire-0.7.0.tar.gz (87 kB)\n",
            "\u001b[2K     \u001b[90m━━━━━━━━━━━━━━━━━━━━━━━━━━━━━━━━━━━━━━━━\u001b[0m \u001b[32m87.2/87.2 kB\u001b[0m \u001b[31m3.8 MB/s\u001b[0m eta \u001b[36m0:00:00\u001b[0m\n",
            "\u001b[?25h  Preparing metadata (setup.py) ... \u001b[?25l\u001b[?25hdone\n",
            "Requirement already satisfied: humanize in /usr/local/lib/python3.11/dist-packages (from shap-e==0.0.0) (4.12.3)\n",
            "Requirement already satisfied: requests in /usr/local/lib/python3.11/dist-packages (from shap-e==0.0.0) (2.32.3)\n",
            "Requirement already satisfied: tqdm in /usr/local/lib/python3.11/dist-packages (from shap-e==0.0.0) (4.67.1)\n",
            "Requirement already satisfied: matplotlib in /usr/local/lib/python3.11/dist-packages (from shap-e==0.0.0) (3.10.0)\n",
            "Requirement already satisfied: scikit-image in /usr/local/lib/python3.11/dist-packages (from shap-e==0.0.0) (0.25.2)\n",
            "Requirement already satisfied: scipy in /usr/local/lib/python3.11/dist-packages (from shap-e==0.0.0) (1.16.0)\n",
            "Requirement already satisfied: numpy in /usr/local/lib/python3.11/dist-packages (from shap-e==0.0.0) (2.0.2)\n",
            "Requirement already satisfied: blobfile in /usr/local/lib/python3.11/dist-packages (from shap-e==0.0.0) (3.0.0)\n",
            "Requirement already satisfied: pycryptodomex>=3.8 in /usr/local/lib/python3.11/dist-packages (from blobfile->shap-e==0.0.0) (3.23.0)\n",
            "Requirement already satisfied: urllib3<3,>=1.25.3 in /usr/local/lib/python3.11/dist-packages (from blobfile->shap-e==0.0.0) (2.5.0)\n",
            "Requirement already satisfied: lxml>=4.9 in /usr/local/lib/python3.11/dist-packages (from blobfile->shap-e==0.0.0) (5.4.0)\n",
            "Collecting ftfy (from clip@ git+https://github.com/openai/CLIP.git->shap-e==0.0.0)\n",
            "  Downloading ftfy-6.3.1-py3-none-any.whl.metadata (7.3 kB)\n",
            "Requirement already satisfied: packaging in /usr/local/lib/python3.11/dist-packages (from clip@ git+https://github.com/openai/CLIP.git->shap-e==0.0.0) (25.0)\n",
            "Requirement already satisfied: regex in /usr/local/lib/python3.11/dist-packages (from clip@ git+https://github.com/openai/CLIP.git->shap-e==0.0.0) (2024.11.6)\n",
            "Requirement already satisfied: torchvision in /usr/local/lib/python3.11/dist-packages (from clip@ git+https://github.com/openai/CLIP.git->shap-e==0.0.0) (0.21.0+cu124)\n",
            "Requirement already satisfied: termcolor in /usr/local/lib/python3.11/dist-packages (from fire->shap-e==0.0.0) (3.1.0)\n",
            "Requirement already satisfied: contourpy>=1.0.1 in /usr/local/lib/python3.11/dist-packages (from matplotlib->shap-e==0.0.0) (1.3.2)\n",
            "Requirement already satisfied: cycler>=0.10 in /usr/local/lib/python3.11/dist-packages (from matplotlib->shap-e==0.0.0) (0.12.1)\n",
            "Requirement already satisfied: fonttools>=4.22.0 in /usr/local/lib/python3.11/dist-packages (from matplotlib->shap-e==0.0.0) (4.59.0)\n",
            "Requirement already satisfied: kiwisolver>=1.3.1 in /usr/local/lib/python3.11/dist-packages (from matplotlib->shap-e==0.0.0) (1.4.8)\n",
            "Requirement already satisfied: pyparsing>=2.3.1 in /usr/local/lib/python3.11/dist-packages (from matplotlib->shap-e==0.0.0) (3.2.3)\n",
            "Requirement already satisfied: python-dateutil>=2.7 in /usr/local/lib/python3.11/dist-packages (from matplotlib->shap-e==0.0.0) (2.9.0.post0)\n",
            "Requirement already satisfied: charset-normalizer<4,>=2 in /usr/local/lib/python3.11/dist-packages (from requests->shap-e==0.0.0) (3.4.2)\n",
            "Requirement already satisfied: idna<4,>=2.5 in /usr/local/lib/python3.11/dist-packages (from requests->shap-e==0.0.0) (3.10)\n",
            "Requirement already satisfied: certifi>=2017.4.17 in /usr/local/lib/python3.11/dist-packages (from requests->shap-e==0.0.0) (2025.7.14)\n",
            "Requirement already satisfied: networkx>=3.0 in /usr/local/lib/python3.11/dist-packages (from scikit-image->shap-e==0.0.0) (3.5)\n",
            "Requirement already satisfied: imageio!=2.35.0,>=2.33 in /usr/local/lib/python3.11/dist-packages (from scikit-image->shap-e==0.0.0) (2.37.0)\n",
            "Requirement already satisfied: tifffile>=2022.8.12 in /usr/local/lib/python3.11/dist-packages (from scikit-image->shap-e==0.0.0) (2025.6.11)\n",
            "Requirement already satisfied: lazy-loader>=0.4 in /usr/local/lib/python3.11/dist-packages (from scikit-image->shap-e==0.0.0) (0.4)\n",
            "Requirement already satisfied: typing-extensions>=4.10.0 in /usr/local/lib/python3.11/dist-packages (from torch->shap-e==0.0.0) (4.14.1)\n",
            "Requirement already satisfied: jinja2 in /usr/local/lib/python3.11/dist-packages (from torch->shap-e==0.0.0) (3.1.6)\n",
            "Requirement already satisfied: fsspec in /usr/local/lib/python3.11/dist-packages (from torch->shap-e==0.0.0) (2025.7.0)\n",
            "Requirement already satisfied: nvidia-cuda-nvrtc-cu12==12.4.127 in /usr/local/lib/python3.11/dist-packages (from torch->shap-e==0.0.0) (12.4.127)\n",
            "Requirement already satisfied: nvidia-cuda-runtime-cu12==12.4.127 in /usr/local/lib/python3.11/dist-packages (from torch->shap-e==0.0.0) (12.4.127)\n",
            "Requirement already satisfied: nvidia-cuda-cupti-cu12==12.4.127 in /usr/local/lib/python3.11/dist-packages (from torch->shap-e==0.0.0) (12.4.127)\n",
            "Requirement already satisfied: nvidia-cudnn-cu12==9.1.0.70 in /usr/local/lib/python3.11/dist-packages (from torch->shap-e==0.0.0) (9.1.0.70)\n",
            "Requirement already satisfied: nvidia-cublas-cu12==12.4.5.8 in /usr/local/lib/python3.11/dist-packages (from torch->shap-e==0.0.0) (12.4.5.8)\n",
            "Requirement already satisfied: nvidia-cufft-cu12==11.2.1.3 in /usr/local/lib/python3.11/dist-packages (from torch->shap-e==0.0.0) (11.2.1.3)\n",
            "Requirement already satisfied: nvidia-curand-cu12==10.3.5.147 in /usr/local/lib/python3.11/dist-packages (from torch->shap-e==0.0.0) (10.3.5.147)\n",
            "Requirement already satisfied: nvidia-cusolver-cu12==11.6.1.9 in /usr/local/lib/python3.11/dist-packages (from torch->shap-e==0.0.0) (11.6.1.9)\n",
            "Requirement already satisfied: nvidia-cusparse-cu12==12.3.1.170 in /usr/local/lib/python3.11/dist-packages (from torch->shap-e==0.0.0) (12.3.1.170)\n",
            "Requirement already satisfied: nvidia-cusparselt-cu12==0.6.2 in /usr/local/lib/python3.11/dist-packages (from torch->shap-e==0.0.0) (0.6.2)\n",
            "Requirement already satisfied: nvidia-nccl-cu12==2.21.5 in /usr/local/lib/python3.11/dist-packages (from torch->shap-e==0.0.0) (2.21.5)\n",
            "Requirement already satisfied: nvidia-nvtx-cu12==12.4.127 in /usr/local/lib/python3.11/dist-packages (from torch->shap-e==0.0.0) (12.4.127)\n",
            "Requirement already satisfied: nvidia-nvjitlink-cu12==12.4.127 in /usr/local/lib/python3.11/dist-packages (from torch->shap-e==0.0.0) (12.4.127)\n",
            "Requirement already satisfied: triton==3.2.0 in /usr/local/lib/python3.11/dist-packages (from torch->shap-e==0.0.0) (3.2.0)\n",
            "Requirement already satisfied: sympy==1.13.1 in /usr/local/lib/python3.11/dist-packages (from torch->shap-e==0.0.0) (1.13.1)\n",
            "Requirement already satisfied: mpmath<1.4,>=1.1.0 in /usr/local/lib/python3.11/dist-packages (from sympy==1.13.1->torch->shap-e==0.0.0) (1.3.0)\n",
            "Requirement already satisfied: six>=1.5 in /usr/local/lib/python3.11/dist-packages (from python-dateutil>=2.7->matplotlib->shap-e==0.0.0) (1.17.0)\n",
            "Requirement already satisfied: wcwidth in /usr/local/lib/python3.11/dist-packages (from ftfy->clip@ git+https://github.com/openai/CLIP.git->shap-e==0.0.0) (0.2.13)\n",
            "Requirement already satisfied: MarkupSafe>=2.0 in /usr/local/lib/python3.11/dist-packages (from jinja2->torch->shap-e==0.0.0) (3.0.2)\n",
            "Downloading ftfy-6.3.1-py3-none-any.whl (44 kB)\n",
            "\u001b[2K   \u001b[90m━━━━━━━━━━━━━━━━━━━━━━━━━━━━━━━━━━━━━━━━\u001b[0m \u001b[32m44.8/44.8 kB\u001b[0m \u001b[31m3.9 MB/s\u001b[0m eta \u001b[36m0:00:00\u001b[0m\n",
            "\u001b[?25hBuilding wheels for collected packages: clip, fire\n",
            "  Building wheel for clip (setup.py) ... \u001b[?25l\u001b[?25hdone\n",
            "  Created wheel for clip: filename=clip-1.0-py3-none-any.whl size=1369490 sha256=1dead8f30e9eb16cc8a1d9c67841dabd7d9aca1dd9b53721675c16de7848f57f\n",
            "  Stored in directory: /tmp/pip-ephem-wheel-cache-_c4aiui5/wheels/3f/7c/a4/9b490845988bf7a4db33674d52f709f088f64392063872eb9a\n",
            "  Building wheel for fire (setup.py) ... \u001b[?25l\u001b[?25hdone\n",
            "  Created wheel for fire: filename=fire-0.7.0-py3-none-any.whl size=114249 sha256=816fb49f3b3641b99e17a89e8921dfa9559be3b7b7a4b88c881f904c10045d34\n",
            "  Stored in directory: /root/.cache/pip/wheels/46/54/24/1624fd5b8674eb1188623f7e8e17cdf7c0f6c24b609dfb8a89\n",
            "Successfully built clip fire\n",
            "Installing collected packages: ftfy, fire, clip, shap-e\n",
            "  Running setup.py develop for shap-e\n",
            "Successfully installed clip-1.0 fire-0.7.0 ftfy-6.3.1 shap-e-0.0.0\n"
          ]
        }
      ]
    },
    {
      "cell_type": "code",
      "source": [
        "import torch\n",
        "from shap_e.diffusion.sample import sample_latents\n",
        "from shap_e.diffusion.gaussian_diffusion import diffusion_from_config\n",
        "from shap_e.models.download import load_model, load_config\n",
        "from shap_e.util.notebooks import decode_latent_mesh\n"
      ],
      "metadata": {
        "id": "6cPqY0KT6vrI"
      },
      "execution_count": 3,
      "outputs": []
    },
    {
      "cell_type": "code",
      "source": [
        "device = torch.device('cuda' if torch.cuda.is_available() else 'cpu')\n",
        "print(f\"Using device: {device}\")\n"
      ],
      "metadata": {
        "colab": {
          "base_uri": "https://localhost:8080/"
        },
        "id": "wNrPz2K-6yiS",
        "outputId": "39370d26-5b7a-4f5d-e98f-2df0d12b10e8"
      },
      "execution_count": 4,
      "outputs": [
        {
          "output_type": "stream",
          "name": "stdout",
          "text": [
            "Using device: cuda\n"
          ]
        }
      ]
    },
    {
      "cell_type": "code",
      "source": [
        "print(\"Loading transmitter model...\")\n",
        "xm = load_model('transmitter', device=device)\n"
      ],
      "metadata": {
        "colab": {
          "base_uri": "https://localhost:8080/",
          "height": 224,
          "referenced_widgets": [
            "1c756bb1840d409b8cebc14745c8a261",
            "ca85bdaa25574c8b8d8f69606c3b68f6",
            "037df5753111427c9c1f902c7449266f",
            "38da79af43d84b3486f2f50d6c444b31",
            "140a6e738e7045509d1a51be9400f1e7",
            "61be4c8088434895b36c9b356e34f706",
            "06da25dccf984c0691d390463423b3ac",
            "9e2889e41c714383887b0490779da22e",
            "58229266ded24d53ae6f0cd41063eaf3",
            "d2a8c27713314032a22776abcde3310e",
            "ca273e2abcd5402f9c3990930303607c"
          ]
        },
        "id": "e2ggIi08625X",
        "outputId": "c5f20bdb-4732-4574-e5de-95290ef161a9"
      },
      "execution_count": 5,
      "outputs": [
        {
          "output_type": "stream",
          "name": "stdout",
          "text": [
            "Loading transmitter model...\n"
          ]
        },
        {
          "output_type": "stream",
          "name": "stderr",
          "text": [
            "/content/shap-e/shap_e/models/nn/checkpoint.py:31: FutureWarning: `torch.cuda.amp.custom_fwd(args...)` is deprecated. Please use `torch.amp.custom_fwd(args..., device_type='cuda')` instead.\n",
            "  @custom_fwd\n",
            "/content/shap-e/shap_e/models/nn/checkpoint.py:43: FutureWarning: `torch.cuda.amp.custom_bwd(args...)` is deprecated. Please use `torch.amp.custom_bwd(args..., device_type='cuda')` instead.\n",
            "  @custom_bwd\n",
            "/content/shap-e/shap_e/models/nn/checkpoint.py:61: FutureWarning: `torch.cuda.amp.custom_fwd(args...)` is deprecated. Please use `torch.amp.custom_fwd(args..., device_type='cuda')` instead.\n",
            "  @custom_fwd\n",
            "/content/shap-e/shap_e/models/nn/checkpoint.py:86: FutureWarning: `torch.cuda.amp.custom_bwd(args...)` is deprecated. Please use `torch.amp.custom_bwd(args..., device_type='cuda')` instead.\n",
            "  @custom_bwd\n"
          ]
        },
        {
          "output_type": "display_data",
          "data": {
            "text/plain": [
              "  0%|          | 0.00/1.78G [00:00<?, ?iB/s]"
            ],
            "application/vnd.jupyter.widget-view+json": {
              "version_major": 2,
              "version_minor": 0,
              "model_id": "1c756bb1840d409b8cebc14745c8a261"
            }
          },
          "metadata": {}
        }
      ]
    },
    {
      "cell_type": "code",
      "source": [
        "print(\"Loading text-to-3D diffusion model (text300M)...\")\n",
        "model = load_model('text300M', device=device)\n"
      ],
      "metadata": {
        "colab": {
          "base_uri": "https://localhost:8080/",
          "height": 84,
          "referenced_widgets": [
            "09ce8d0a7a9a44feb4fdf7ac08c3ac4d",
            "7733bd651b764c46bb6fb8856a3c175f",
            "1ac8d3cda8724621b76ff7ede01fb37f",
            "fa704996f8324c27a483a615246ffed2",
            "7235c15d545a47f1ba730a1fa8ee6fb6",
            "6132d7c389004e4bb70de05001bbb86d",
            "19fdca2b457c474894c79f186583c19f",
            "816278e74c93451eb1e3ae26bcd54696",
            "11584237e54c42e88438c0e0ba81ca22",
            "e75b61901e124bec939cf6edf686c2a3",
            "9f7facbb32004f8bb290667ae5e82153"
          ]
        },
        "id": "trASgwxz65Nn",
        "outputId": "0b6fcf4a-334e-4380-eede-88946a5dbba5"
      },
      "execution_count": 6,
      "outputs": [
        {
          "output_type": "stream",
          "name": "stdout",
          "text": [
            "Loading text-to-3D diffusion model (text300M)...\n"
          ]
        },
        {
          "output_type": "stream",
          "name": "stderr",
          "text": [
            "100%|███████████████████████████████████████| 890M/890M [00:10<00:00, 88.4MiB/s]\n"
          ]
        },
        {
          "output_type": "display_data",
          "data": {
            "text/plain": [
              "  0%|          | 0.00/1.26G [00:00<?, ?iB/s]"
            ],
            "application/vnd.jupyter.widget-view+json": {
              "version_major": 2,
              "version_minor": 0,
              "model_id": "09ce8d0a7a9a44feb4fdf7ac08c3ac4d"
            }
          },
          "metadata": {}
        }
      ]
    },
    {
      "cell_type": "code",
      "source": [
        "print(\"Loading diffusion configuration...\")\n",
        "diffusion = diffusion_from_config(load_config('diffusion'))\n",
        "\n",
        "print(\"All models loaded successfully!\")"
      ],
      "metadata": {
        "colab": {
          "base_uri": "https://localhost:8080/"
        },
        "id": "gnsYFdER67X9",
        "outputId": "72f818b7-73cc-4ff6-b624-d69c3a095c94"
      },
      "execution_count": 7,
      "outputs": [
        {
          "output_type": "stream",
          "name": "stdout",
          "text": [
            "Loading diffusion configuration...\n",
            "All models loaded successfully!\n"
          ]
        }
      ]
    },
    {
      "cell_type": "code",
      "source": [
        "# Your text prompt for the 3D model\n",
        "prompt = input(\"Enter your desired 3D model prompt (e.g., 'a futuristic spaceship', 'a medieval castle'): \")\n",
        "\n",
        "batch_size = 1 # Number of models to generate (keep at 1 for faster results)\n",
        "guidance_scale = 15.0 # Higher values make the model stick closer to the prompt\n"
      ],
      "metadata": {
        "colab": {
          "base_uri": "https://localhost:8080/"
        },
        "id": "4PZhV7pO6_2q",
        "outputId": "200e57d4-7361-401c-ede8-267562e185f6"
      },
      "execution_count": 35,
      "outputs": [
        {
          "name": "stdout",
          "output_type": "stream",
          "text": [
            "Enter your desired 3D model prompt (e.g., 'a futuristic spaceship', 'a medieval castle'): a cute red mushroom with white spots\n"
          ]
        }
      ]
    },
    {
      "cell_type": "code",
      "source": [
        "print(f\"Generating 3D model for prompt: '{prompt}'\")\n",
        "\n",
        "# Generate 3D latents\n",
        "latents = sample_latents(\n",
        "    batch_size=batch_size,\n",
        "    model=model,\n",
        "    diffusion=diffusion,\n",
        "    guidance_scale=guidance_scale,\n",
        "    model_kwargs=dict(texts=[prompt] * batch_size),\n",
        "    progress=True,\n",
        "    clip_denoised=True,\n",
        "    use_fp16=True,\n",
        "    use_karras=True,\n",
        "    karras_steps=64, # Number of diffusion steps (more steps = potentially better quality, but slower)\n",
        "    sigma_min=1e-3,\n",
        "    sigma_max=160,\n",
        "    s_churn=0,\n",
        ")\n",
        "\n",
        "print(\"3D latent generated. Decoding mesh...\")"
      ],
      "metadata": {
        "colab": {
          "base_uri": "https://localhost:8080/",
          "height": 84,
          "referenced_widgets": [
            "d64bae0f083b4be09e0c3ab7afbbcfd4",
            "ad47e99333a24ab1844e59f4da70e498",
            "1afc62c98f7b4a0895de00ffca800152",
            "624cb5b0bda047f0b5d0efecf6db4f46",
            "151c6f14116d4c178ae6938d3296ec27",
            "bc23ea22cde24643a3571b661edb4ee0",
            "c67db4e4c9d64800afe9ae62ac8b9e30",
            "58e75472a49546909f78034867241404",
            "ae467e682a854bf8beaaf381586e8765",
            "21d4d4c98ddd4339b130242c34c8c0cd",
            "8b2bd8b42e894e92ae8eb1c96ab70da6"
          ]
        },
        "id": "lShdOl0a7JMQ",
        "outputId": "35dd1486-2a92-4b31-963d-51a321552d33"
      },
      "execution_count": 43,
      "outputs": [
        {
          "output_type": "stream",
          "name": "stdout",
          "text": [
            "Generating 3D model for prompt: 'a cute red mushroom with white spots'\n"
          ]
        },
        {
          "output_type": "display_data",
          "data": {
            "text/plain": [
              "  0%|          | 0/64 [00:00<?, ?it/s]"
            ],
            "application/vnd.jupyter.widget-view+json": {
              "version_major": 2,
              "version_minor": 0,
              "model_id": "d64bae0f083b4be09e0c3ab7afbbcfd4"
            }
          },
          "metadata": {}
        },
        {
          "output_type": "stream",
          "name": "stdout",
          "text": [
            "3D latent generated. Decoding mesh...\n"
          ]
        }
      ]
    },
    {
      "cell_type": "code",
      "source": [
        "import os\n",
        "import trimesh\n",
        "\n",
        "# Create a directory to save the models\n",
        "output_dir = \"generated_3d_models\"\n",
        "os.makedirs(output_dir, exist_ok=True)\n"
      ],
      "metadata": {
        "id": "ctMFuy7T7N5j"
      },
      "execution_count": 44,
      "outputs": []
    },
    {
      "cell_type": "code",
      "source": [
        "for i, latent in enumerate(latents):\n",
        "    # Decode the latent into a triangle mesh\n",
        "    t = decode_latent_mesh(xm, latent).tri_mesh()\n",
        "\n",
        "    # Define filenames\n",
        "    obj_filename = os.path.join(output_dir, f\"generated_model_{i}.obj\")\n",
        "    glb_filename = os.path.join(output_dir, f\"generated_model_{i}.glb\")\n",
        "\n",
        "    # Save as OBJ\n",
        "    with open(obj_filename, 'w') as f:\n",
        "        t.write_obj(f)\n",
        "    print(f\"Saved OBJ to: {obj_filename}\")\n",
        "\n",
        "    # Convert to GLB using trimesh (GLB is often preferred for game engines)\n",
        "    # Note: trimesh might require additional dependencies for GLB export,\n",
        "    # but we installed a basic trimesh. If this fails, focus on OBJ.\n",
        "    try:\n",
        "        mesh = trimesh.Trimesh(vertices=t.verts, faces=t.faces)\n",
        "        mesh.export(glb_filename)\n",
        "        print(f\"Saved GLB to: {glb_filename}\")\n",
        "    except Exception as e:\n",
        "        print(f\"Could not save GLB (might need additional trimesh dependencies or a more complex conversion): {e}\")\n",
        "        print(\"OBJ file is still available.\")\n",
        "\n",
        "print(\"\\nGeneration and saving complete!\")\n",
        "print(\"You can find your models in the 'generated_3d_models' folder in the Colab file browser (left sidebar).\")\n",
        "print(\"Download them to view in a 3D viewer (like Blender, Windows 3D Viewer, or online GLB viewers).\")"
      ],
      "metadata": {
        "colab": {
          "base_uri": "https://localhost:8080/"
        },
        "id": "14QSMdvc7VGe",
        "outputId": "0e954eac-4a66-4160-fe9b-f9d10dbae929"
      },
      "execution_count": 45,
      "outputs": [
        {
          "output_type": "stream",
          "name": "stdout",
          "text": [
            "Saved OBJ to: generated_3d_models/generated_model_0.obj\n",
            "Saved GLB to: generated_3d_models/generated_model_0.glb\n",
            "\n",
            "Generation and saving complete!\n",
            "You can find your models in the 'generated_3d_models' folder in the Colab file browser (left sidebar).\n",
            "Download them to view in a 3D viewer (like Blender, Windows 3D Viewer, or online GLB viewers).\n"
          ]
        }
      ]
    },
    {
      "cell_type": "code",
      "source": [
        "from shap_e.util.notebooks import create_pan_cameras, decode_latent_images, gif_widget\n",
        "from IPython.display import display"
      ],
      "metadata": {
        "id": "3jTopNOa7V79"
      },
      "execution_count": 46,
      "outputs": []
    },
    {
      "cell_type": "code",
      "source": [
        "print(\"Rendering GIF preview...\")\n",
        "\n",
        "\n",
        "size = 64 # Resolution of the rendered images\n",
        "cameras = create_pan_cameras(size, device)\n"
      ],
      "metadata": {
        "colab": {
          "base_uri": "https://localhost:8080/"
        },
        "id": "FKRkgtZS7Y7l",
        "outputId": "50efcfb7-c9ee-4cf3-89ea-f9b4dc86e334"
      },
      "execution_count": 47,
      "outputs": [
        {
          "output_type": "stream",
          "name": "stdout",
          "text": [
            "Rendering GIF preview...\n"
          ]
        }
      ]
    },
    {
      "cell_type": "code",
      "source": [
        "for i, latent in enumerate(latents):\n",
        "    images = decode_latent_images(xm, latent, cameras, rendering_mode='nerf') # 'nerf' or 'stf'\n",
        "    # Display the GIF widget\n",
        "    display(gif_widget(images))\n",
        "    print(f\"Preview for generated_model_{i}.obj:\")\n",
        "\n",
        "print(\"GIF preview complete!\")"
      ],
      "metadata": {
        "colab": {
          "base_uri": "https://localhost:8080/",
          "height": 129,
          "referenced_widgets": [
            "32f5249a89684f5188b24973aa98a49a",
            "fbbe021698574ddba2ea62a34b93be5e",
            "e7862f537d5045f992d629e4dbf0e31a"
          ]
        },
        "id": "_A89IBa27cn0",
        "outputId": "9d4c51df-1b57-4693-9f9c-0874ebc58187"
      },
      "execution_count": 48,
      "outputs": [
        {
          "output_type": "display_data",
          "data": {
            "text/plain": [
              "HTML(value='<img src=\"data:image/gif;base64,R0lGODlhQABAAIcAAOTe3t/W1uPOzfXKzNbKyfDHyu3GyNbGxenDxefCxOXBw+S/we…"
            ],
            "application/vnd.jupyter.widget-view+json": {
              "version_major": 2,
              "version_minor": 0,
              "model_id": "32f5249a89684f5188b24973aa98a49a"
            }
          },
          "metadata": {}
        },
        {
          "output_type": "stream",
          "name": "stdout",
          "text": [
            "Preview for generated_model_0.obj:\n",
            "GIF preview complete!\n"
          ]
        }
      ]
    },
    {
      "cell_type": "code",
      "source": [
        "-"
      ],
      "metadata": {
        "id": "_PG2lUXi-389"
      },
      "execution_count": null,
      "outputs": []
    }
  ]
}